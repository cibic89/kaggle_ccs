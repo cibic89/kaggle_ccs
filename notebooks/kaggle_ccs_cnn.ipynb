{
 "cells": [
  {
   "cell_type": "code",
   "execution_count": null,
   "metadata": {
    "colab": {},
    "colab_type": "code",
    "id": "ihwt6Qam7lf_"
   },
   "outputs": [],
   "source": [
    "# %tensorflow_version 2.x\n",
    "# import tensorflow as tf\n",
    "# print(\"Tensorflow version \" + tf.__version__)\n",
    "\n",
    "# try:\n",
    "#   tpu = tf.distribute.cluster_resolver.TPUClusterResolver()  # TPU detection\n",
    "#   print('Running on TPU ', tpu.cluster_spec().as_dict()['worker'])\n",
    "# except ValueError:\n",
    "#   raise BaseException('ERROR: Not connected to a TPU runtime; please see the previous cell in this notebook for instructions!')\n",
    "\n",
    "# tf.config.experimental_connect_to_cluster(tpu)\n",
    "# tf.tpu.experimental.initialize_tpu_system(tpu)\n",
    "# tpu_strategy = tf.distribute.experimental.TPUStrategy(tpu)\n",
    "\n",
    "# from tensorflow.keras.datasets import mnist\n",
    "# (x_train, y_train), (x_test, y_test) = mnist.load_data()\n",
    "# print(x_train.shape) # (60000, 28, 28)\n",
    "# print(y_train.shape) # (60000,)\n",
    "# print(x_train.size/1024/1024,\"mb\")"
   ]
  },
  {
   "cell_type": "code",
   "execution_count": 1,
   "metadata": {
    "colab": {},
    "colab_type": "code",
    "id": "GwS2d3AYrila"
   },
   "outputs": [],
   "source": [
    "%%capture\n",
    "!pip install tensorflow keras autokeras pandas numpy matplotlib --upgrade"
   ]
  },
  {
   "cell_type": "code",
   "execution_count": 3,
   "metadata": {
    "colab": {
     "base_uri": "https://localhost:8080/",
     "height": 53
    },
    "colab_type": "code",
    "executionInfo": {
     "elapsed": 7474,
     "status": "ok",
     "timestamp": 1590833880238,
     "user": {
      "displayName": "George Joseph",
      "photoUrl": "",
      "userId": "13020112913364502074"
     },
     "user_tz": -60
    },
    "id": "wBgs8uHktVXm",
    "outputId": "1afcd41d-7e71-4467-c675-40158b9b56d0"
   },
   "outputs": [
    {
     "name": "stdout",
     "output_type": "stream",
     "text": [
      "Tensorflow version 2.2.0\n"
     ]
    },
    {
     "name": "stderr",
     "output_type": "stream",
     "text": [
      "Using TensorFlow backend.\n"
     ]
    }
   ],
   "source": [
    "import tensorflow as tf\n",
    "tf.debugging.set_log_device_placement(True)\n",
    "print(\"Tensorflow version \" + tf.__version__)\n",
    "import gc\n",
    "import os\n",
    "import pprint\n",
    "import autokeras as ak\n",
    "from glob import glob\n",
    "import numpy as np\n",
    "import pandas as pd\n",
    "from keras.preprocessing.image import ImageDataGenerator, array_to_img, img_to_array, load_img\n",
    "from distutils.dir_util import copy_tree\n",
    "from tensorflow.python.client import device_lib\n",
    "import multiprocessing as mp\n",
    "\n",
    "pd.options.display.max_rows = 1000\n",
    "pd.options.display.max_columns = 100\n",
    "pd.options.display.max_colwidth = 100\n",
    "pd.options.display.precision = 8\n",
    "pd.options.display.float_format = '{:,.3f}'.format"
   ]
  },
  {
   "cell_type": "code",
   "execution_count": 4,
   "metadata": {
    "colab": {
     "base_uri": "https://localhost:8080/",
     "height": 249
    },
    "colab_type": "code",
    "executionInfo": {
     "elapsed": 8196,
     "status": "ok",
     "timestamp": 1590833880985,
     "user": {
      "displayName": "George Joseph",
      "photoUrl": "",
      "userId": "13020112913364502074"
     },
     "user_tz": -60
    },
    "id": "MeZUBf6QMz1N",
    "outputId": "de62830f-f03b-4676-80d7-237382bfe46b"
   },
   "outputs": [
    {
     "name": "stdout",
     "output_type": "stream",
     "text": [
      "CPU Core count 4\n",
      "No GPU\n"
     ]
    }
   ],
   "source": [
    "gpu_info = str(device_lib.list_local_devices()[-1])\n",
    "print(\"CPU Core count\", mp.cpu_count())\n",
    "if \"CPU\" in gpu_info:\n",
    "    print(\"No GPU\")\n",
    "else:\n",
    "    print(\"GPU info:\\n\", gpu_info)"
   ]
  },
  {
   "cell_type": "code",
   "execution_count": 21,
   "metadata": {
    "colab": {
     "base_uri": "https://localhost:8080/",
     "height": 53
    },
    "colab_type": "code",
    "executionInfo": {
     "elapsed": 17565,
     "status": "ok",
     "timestamp": 1590833890379,
     "user": {
      "displayName": "George Joseph",
      "photoUrl": "",
      "userId": "13020112913364502074"
     },
     "user_tz": -60
    },
    "id": "GiAoaQtY_CbZ",
    "outputId": "5e16f67d-8cb3-4685-c73b-d5756190ecf8"
   },
   "outputs": [],
   "source": [
    "project_dir = os.path.dirname(os.getcwd())+os.sep\n",
    "data_dir = os.path.join(project_dir, \"data\")+os.sep\n",
    "interim_dir = os.path.join(data_dir, \"interim\")+os.sep\n",
    "train_dir = os.path.join(interim_dir, \"train\")+os.sep\n",
    "test_dir = os.path.join(interim_dir, \"test\")+os.sep\n",
    "img_size = (560, 440)  # keras needs this as height, width but TF has it as width, height"
   ]
  },
  {
   "cell_type": "code",
   "execution_count": 22,
   "metadata": {
    "colab": {},
    "colab_type": "code",
    "id": "aNm-jkAtCo2U"
   },
   "outputs": [],
   "source": [
    "def find_rdf(path):\n",
    "    roots, directories, n_examples = [], [], []\n",
    "    for root, directory, file in os.walk(path):\n",
    "        roots += [root]\n",
    "        directories += directory\n",
    "        n_examples += file\n",
    "        root = roots[0]\n",
    "    return root, directories, n_examples\n",
    "\n",
    "train_walk = find_rdf(train_dir)\n",
    "test_walk = find_rdf(test_dir)\n",
    "n_examples = len(train_walk[2])"
   ]
  },
  {
   "cell_type": "code",
   "execution_count": 23,
   "metadata": {
    "colab": {
     "base_uri": "https://localhost:8080/",
     "height": 35
    },
    "colab_type": "code",
    "executionInfo": {
     "elapsed": 16641,
     "status": "ok",
     "timestamp": 1590833890383,
     "user": {
      "displayName": "George Joseph",
      "photoUrl": "",
      "userId": "13020112913364502074"
     },
     "user_tz": -60
    },
    "id": "sH4ijZJOChG6",
    "outputId": "65eaf023-6706-4d3b-cde0-8d6574cd9d6b"
   },
   "outputs": [
    {
     "data": {
      "text/plain": [
       "'D:\\\\Users\\\\gjnet\\\\code_projects\\\\kaggle_ccs\\\\data\\\\interim\\\\train\\\\'"
      ]
     },
     "execution_count": 23,
     "metadata": {},
     "output_type": "execute_result"
    }
   ],
   "source": [
    "ml_dtype_pths = dict(zip([\"train\", \"test\"], [train_walk[0], test_walk[0]])) \n",
    "ml_dtype_pths[\"train\"]"
   ]
  },
  {
   "cell_type": "code",
   "execution_count": 24,
   "metadata": {
    "colab": {},
    "colab_type": "code",
    "id": "HxMLPh91oxr2"
   },
   "outputs": [],
   "source": [
    "files_dct = dict()\n",
    "for ml_dtype in ml_dtype_pths.keys():\n",
    "    files_dct[ml_dtype] = []\n",
    "    if ml_dtype != \"test\":\n",
    "        for outcome_type in train_walk[1]:\n",
    "            files_dct[ml_dtype] += glob(ml_dtype_pths[ml_dtype]+outcome_type+os.sep+\"*.jpg\")\n",
    "    else:\n",
    "        files_dct[ml_dtype] += glob(ml_dtype_pths[ml_dtype]+\"unlabelled\"+os.sep+\"*.jpg\")"
   ]
  },
  {
   "cell_type": "code",
   "execution_count": 25,
   "metadata": {
    "colab": {
     "base_uri": "https://localhost:8080/",
     "height": 307
    },
    "colab_type": "code",
    "executionInfo": {
     "elapsed": 15552,
     "status": "ok",
     "timestamp": 1590833890718,
     "user": {
      "displayName": "George Joseph",
      "photoUrl": "",
      "userId": "13020112913364502074"
     },
     "user_tz": -60
    },
    "id": "C8f8Rw4PDM6t",
    "outputId": "3c611ba3-7a5d-4120-8b03-e13e153e366f"
   },
   "outputs": [
    {
     "data": {
      "text/plain": [
       "<matplotlib.axes._subplots.AxesSubplot at 0x23540d6a548>"
      ]
     },
     "execution_count": 25,
     "metadata": {},
     "output_type": "execute_result"
    },
    {
     "data": {
      "image/png": "[encoded data removed]",
      "text/plain": [
       "<Figure size 432x288 with 1 Axes>"
      ]
     },
     "metadata": {
      "needs_background": "light"
     },
     "output_type": "display_data"
    }
   ],
   "source": [
    "filenames_df = pd.DataFrame(files_dct[\"train\"], columns=[\"filepath\"])\n",
    "filenames_df[\"class\"] = filenames_df[\"filepath\"].str.extract(\"(t\\d)\").squeeze().str.replace(\"t\",\"Type_\")\n",
    "filenames_df = filenames_df.astype(\"category\")\n",
    "cls_val_cnts = filenames_df[\"class\"].value_counts()\n",
    "cls_val_cnts.plot(kind=\"bar\")"
   ]
  },
  {
   "cell_type": "code",
   "execution_count": 26,
   "metadata": {
    "colab": {
     "base_uri": "https://localhost:8080/",
     "height": 53
    },
    "colab_type": "code",
    "executionInfo": {
     "elapsed": 14849,
     "status": "ok",
     "timestamp": 1590833890721,
     "user": {
      "displayName": "George Joseph",
      "photoUrl": "",
      "userId": "13020112913364502074"
     },
     "user_tz": -60
    },
    "id": "ScGXedVxGCXR",
    "outputId": "b14c33b6-c741-45e2-a4b3-0fe88877b4b3"
   },
   "outputs": [
    {
     "name": "stdout",
     "output_type": "stream",
     "text": [
      "Int divisor for 6728 is 58. Drop 1 image groups.\n",
      "Int divisor for 6728 is 4. Drop 1 image groups.\n"
     ]
    }
   ],
   "source": [
    "def printDivisors(n, min=32, max=512): \n",
    "    i = 1\n",
    "    n_w = n\n",
    "    divs = []\n",
    "    while (i <= n_w): \n",
    "        if (n_w % i==0) & (i >= min) & (i <= max):  # batch size\n",
    "            drop_n = n-n_w\n",
    "            print(\"Int divisor for\", n_w, \"is\", str(i)+\". Drop\", drop_n,\"image groups.\")\n",
    "            return i\n",
    "        if (n_w == i):\n",
    "            n_w -= 1\n",
    "            i = 0\n",
    "        i = i + 1\n",
    "batch_size = printDivisors(n_examples)\n",
    "over_sample_weight = 1*printDivisors(n_examples, 4, 10)"
   ]
  },
  {
   "cell_type": "code",
   "execution_count": 27,
   "metadata": {
    "colab": {},
    "colab_type": "code",
    "id": "v3FtKm2KGuiK"
   },
   "outputs": [],
   "source": [
    "# # Test augmentations\n",
    "# from keras.preprocessing.image import ImageDataGenerator, array_to_img, img_to_array, load_img\n",
    "# img = load_img(train_dir+\"Type_2\"+os.sep+\"trn_0_add_t2.jpg\")\n",
    "# x = img_to_array(img)  # this is a Numpy array with shape (560, 440, 3)\n",
    "# x = x.reshape((1,) + x.shape)  # this is a Numpy array with shape (1, 560, 440, 3)\n",
    "\n",
    "# i = 0\n",
    "# for batch in datagen.flow(x, batch_size=1, save_to_dir=augmented_dir, save_format='jpg'):\n",
    "#     i += 1\n",
    "#     if i > 20:\n",
    "#         break  # otherwise the generator would loop indefinitely"
   ]
  },
  {
   "cell_type": "code",
   "execution_count": 28,
   "metadata": {
    "colab": {
     "base_uri": "https://localhost:8080/",
     "height": 124
    },
    "colab_type": "code",
    "executionInfo": {
     "elapsed": 673,
     "status": "ok",
     "timestamp": 1590834743994,
     "user": {
      "displayName": "George Joseph",
      "photoUrl": "",
      "userId": "13020112913364502074"
     },
     "user_tz": -60
    },
    "id": "0jE0IY0-c5W6",
    "outputId": "4c559eb7-444e-4db6-8a45-64751c35511e"
   },
   "outputs": [
    {
     "name": "stdout",
     "output_type": "stream",
     "text": [
      "Found 5384 images belonging to 3 classes.\n",
      "Found 1345 images belonging to 3 classes.\n",
      "Executing op TensorDataset in device /job:localhost/replica:0/task:0/device:CPU:0\n",
      "Executing op FlatMapDataset in device /job:localhost/replica:0/task:0/device:CPU:0\n",
      "Executing op TensorDataset in device /job:localhost/replica:0/task:0/device:CPU:0\n",
      "Executing op FlatMapDataset in device /job:localhost/replica:0/task:0/device:CPU:0\n"
     ]
    }
   ],
   "source": [
    "def preprocess(img):\n",
    "    img = array_to_img(img, scale=False)\n",
    "    # img = img.resize((img_size[0], img_size[1]))\n",
    "    img = img_to_array(img)\n",
    "    return img  # / 255.0\n",
    "\n",
    "\n",
    "image_generator = tf.keras.preprocessing.image.ImageDataGenerator(\n",
    "    samplewise_center=True,\n",
    "    samplewise_std_normalization=True,\n",
    "    rotation_range=90,\n",
    "    shear_range=0.2,\n",
    "    fill_mode=\"reflect\",\n",
    "    horizontal_flip=True,\n",
    "    vertical_flip=True,\n",
    "    validation_split=0.08,\n",
    "    preprocessing_function=preprocess,\n",
    "    # dtype=np.float16,\n",
    "    # rescale=1./255\n",
    "    )\n",
    "\n",
    "train_generator = image_generator.flow_from_directory(\n",
    "    directory=train_dir,\n",
    "    target_size=img_size,\n",
    "    color_mode=\"grayscale\",\n",
    "    class_mode=\"categorical\",\n",
    "    batch_size=batch_size,\n",
    "    shuffle=True,\n",
    "    seed=123,\n",
    "    # interpolation=\"mitchellcubic\",\n",
    "    subset='training',\n",
    "    )\n",
    "\n",
    "val_generator = image_generator.flow_from_directory(\n",
    "    directory=train_dir,\n",
    "    target_size=img_size,\n",
    "    color_mode=\"grayscale\",\n",
    "    class_mode=\"categorical\",\n",
    "    batch_size=batch_size,\n",
    "    shuffle=True,\n",
    "    seed=123,\n",
    "    # interpolation=\"mitchellcubic\",\n",
    "    subset='validation',\n",
    "    )\n",
    "\n",
    "def callable_iterator(generator):\n",
    "    for img_batch, targets_batch in generator:\n",
    "        yield img_batch, targets_batch\n",
    "\n",
    "train_dataset = tf.data.Dataset.from_generator(\n",
    "    lambda: callable_iterator(train_generator),\n",
    "    output_types=(tf.float32, tf.float32))\n",
    "\n",
    "val_dataset = tf.data.Dataset.from_generator(\n",
    "    lambda: callable_iterator(val_generator),\n",
    "    output_types=(tf.float32, tf.float32))"
   ]
  },
  {
   "cell_type": "code",
   "execution_count": 30,
   "metadata": {
    "colab": {
     "base_uri": "https://localhost:8080/",
     "height": 358
    },
    "colab_type": "code",
    "executionInfo": {
     "elapsed": 2145,
     "status": "ok",
     "timestamp": 1590834742240,
     "user": {
      "displayName": "George Joseph",
      "photoUrl": "",
      "userId": "13020112913364502074"
     },
     "user_tz": -60
    },
    "id": "mzLdF8bVFru_",
    "outputId": "b955b3f8-6ec6-4d28-ba77-374dc7706e7d"
   },
   "outputs": [
    {
     "name": "stdout",
     "output_type": "stream",
     "text": [
      "Executing op TakeDataset in device /job:localhost/replica:0/task:0/device:CPU:0\n",
      "Executing op OptimizeDataset in device /job:localhost/replica:0/task:0/device:CPU:0\n",
      "Executing op ModelDataset in device /job:localhost/replica:0/task:0/device:CPU:0\n",
      "Image shape:  (58, 560, 440, 1)\n",
      "Label:  [0. 0. 1.]\n"
     ]
    },
    {
     "data": {
      "image/png": "[encoded data removed]",
      "text/plain": [
       "<Figure size 432x288 with 1 Axes>"
      ]
     },
     "metadata": {
      "needs_background": "light"
     },
     "output_type": "display_data"
    }
   ],
   "source": [
    "import matplotlib.pyplot as plt\n",
    "for image, label in train_dataset.take(1):\n",
    "    print(\"Image shape: \", image.numpy().shape)\n",
    "    print(\"Label: \", label.numpy()[0])\n",
    "    plt.imshow(image.numpy()[0].squeeze(axis=2))\n",
    "    plt.show()"
   ]
  },
  {
   "cell_type": "code",
   "execution_count": null,
   "metadata": {
    "colab": {
     "base_uri": "https://localhost:8080/",
     "height": 160
    },
    "colab_type": "code",
    "executionInfo": {
     "elapsed": 813923,
     "status": "error",
     "timestamp": 1590770769466,
     "user": {
      "displayName": "George Joseph",
      "photoUrl": "",
      "userId": "13020112913364502074"
     },
     "user_tz": -60
    },
    "id": "E82C7PWSImsU",
    "outputId": "dbf0d9be-950e-4ce6-a725-c4f662427e74"
   },
   "outputs": [
    {
     "name": "stdout",
     "output_type": "stream",
     "text": [
      "Executing op MapDataset in device /job:localhost/replica:0/task:0/device:CPU:0\n",
      "Executing op MapDataset in device /job:localhost/replica:0/task:0/device:CPU:0\n",
      "Executing op ZipDataset in device /job:localhost/replica:0/task:0/device:CPU:0\n",
      "Executing op ZipDataset in device /job:localhost/replica:0/task:0/device:CPU:0\n",
      "Executing op ZipDataset in device /job:localhost/replica:0/task:0/device:CPU:0\n",
      "Executing op OptimizeDataset in device /job:localhost/replica:0/task:0/device:CPU:0\n",
      "Executing op ModelDataset in device /job:localhost/replica:0/task:0/device:CPU:0\n",
      "Executing op ReduceDataset in device /job:localhost/replica:0/task:0/device:CPU:0\n"
     ]
    }
   ],
   "source": [
    "%%time\n",
    "def create_model(max_trials=100):\n",
    "    clf = ak.ImageClassifier(\n",
    "      loss=\"categorical_crossentropy\",\n",
    "      max_trials=max_trials,\n",
    "      overwrite=True,\n",
    "      seed=123,\n",
    "      )\n",
    "\n",
    "    #Feed the tensorflow Dataset to the classifier.\n",
    "    clf.fit(train_dataset)\n",
    "    #Evaluate the best model.\n",
    "    print(clf.evaluate(val_dataset))\n",
    "\n",
    "    return clf\n",
    "\n",
    "# with tpu_strategy.scope(): # creating the model in the TPUStrategy scope means we will train the model on the TPU\n",
    "clf = create_model()"
   ]
  }
 ],
 "metadata": {
  "accelerator": "GPU",
  "colab": {
   "authorship_tag": "ABX9TyOBO7GAvy5As6gdpLadlxtt",
   "machine_shape": "hm",
   "mount_file_id": "12mIsFg9kgFtQZIiJwEXQ8hNAY-mOtAsQ",
   "name": "kaggle_ccs_cnn.ipynb",
   "provenance": []
  },
  "kernelspec": {
   "display_name": "Python 3",
   "language": "python",
   "name": "python3"
  },
  "language_info": {
   "codemirror_mode": {
    "name": "ipython",
    "version": 3
   },
   "file_extension": ".py",
   "mimetype": "text/x-python",
   "name": "python",
   "nbconvert_exporter": "python",
   "pygments_lexer": "ipython3",
   "version": "3.7.7"
  }
 },
 "nbformat": 4,
 "nbformat_minor": 4
}
