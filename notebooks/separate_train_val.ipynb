{
 "cells": [
  {
   "cell_type": "code",
   "execution_count": 1,
   "metadata": {},
   "outputs": [],
   "source": [
    "import os\n",
    "import sys\n",
    "import pandas as pd\n",
    "import numpy as np\n",
    "from glob import glob\n",
    "from os.path import isfile, join\n",
    "from sklearn.model_selection import train_test_split\n",
    "import matplotlib.pyplot as plt\n",
    "\n",
    "pd.options.display.max_rows = 1000\n",
    "pd.options.display.max_columns = 100\n",
    "pd.options.display.max_colwidth = 100\n",
    "pd.options.display.precision = 8\n",
    "pd.options.display.float_format = '{:,.3f}'.format"
   ]
  },
  {
   "cell_type": "code",
   "execution_count": 11,
   "metadata": {},
   "outputs": [
    {
     "data": {
      "text/html": [
       "<div>\n",
       "<style scoped>\n",
       "    .dataframe tbody tr th:only-of-type {\n",
       "        vertical-align: middle;\n",
       "    }\n",
       "\n",
       "    .dataframe tbody tr th {\n",
       "        vertical-align: top;\n",
       "    }\n",
       "\n",
       "    .dataframe thead th {\n",
       "        text-align: right;\n",
       "    }\n",
       "</style>\n",
       "<table border=\"1\" class=\"dataframe\">\n",
       "  <thead>\n",
       "    <tr style=\"text-align: right;\">\n",
       "      <th></th>\n",
       "      <th>filename</th>\n",
       "      <th>class</th>\n",
       "      <th>filepath</th>\n",
       "    </tr>\n",
       "  </thead>\n",
       "  <tbody>\n",
       "    <tr>\n",
       "      <th>0</th>\n",
       "      <td>trn_0_add_t2.jpg</td>\n",
       "      <td>Type_2</td>\n",
       "      <td>D:\\Users\\gjnet\\Google Drive\\code_projects\\kaggle_ccs\\interim\\train\\Type_1\\trn_1000_add_t1.jpg</td>\n",
       "    </tr>\n",
       "    <tr>\n",
       "      <th>1</th>\n",
       "      <td>trn_1000_add_t1.jpg</td>\n",
       "      <td>Type_1</td>\n",
       "      <td>D:\\Users\\gjnet\\Google Drive\\code_projects\\kaggle_ccs\\interim\\train\\Type_1\\trn_1001_add_t1.jpg</td>\n",
       "    </tr>\n",
       "    <tr>\n",
       "      <th>2</th>\n",
       "      <td>trn_1001_add_t1.jpg</td>\n",
       "      <td>Type_1</td>\n",
       "      <td>D:\\Users\\gjnet\\Google Drive\\code_projects\\kaggle_ccs\\interim\\train\\Type_1\\trn_1005_add_t1.jpg</td>\n",
       "    </tr>\n",
       "    <tr>\n",
       "      <th>3</th>\n",
       "      <td>trn_1002_add_t2.jpg</td>\n",
       "      <td>Type_2</td>\n",
       "      <td>D:\\Users\\gjnet\\Google Drive\\code_projects\\kaggle_ccs\\interim\\train\\Type_1\\trn_1009_add_t1.jpg</td>\n",
       "    </tr>\n",
       "    <tr>\n",
       "      <th>4</th>\n",
       "      <td>trn_1005_add_t1.jpg</td>\n",
       "      <td>Type_1</td>\n",
       "      <td>D:\\Users\\gjnet\\Google Drive\\code_projects\\kaggle_ccs\\interim\\train\\Type_1\\trn_1011_add_t1.jpg</td>\n",
       "    </tr>\n",
       "  </tbody>\n",
       "</table>\n",
       "</div>"
      ],
      "text/plain": [
       "              filename   class  \\\n",
       "0     trn_0_add_t2.jpg  Type_2   \n",
       "1  trn_1000_add_t1.jpg  Type_1   \n",
       "2  trn_1001_add_t1.jpg  Type_1   \n",
       "3  trn_1002_add_t2.jpg  Type_2   \n",
       "4  trn_1005_add_t1.jpg  Type_1   \n",
       "\n",
       "                                                                                        filepath  \n",
       "0  D:\\Users\\gjnet\\Google Drive\\code_projects\\kaggle_ccs\\interim\\train\\Type_1\\trn_1000_add_t1.jpg  \n",
       "1  D:\\Users\\gjnet\\Google Drive\\code_projects\\kaggle_ccs\\interim\\train\\Type_1\\trn_1001_add_t1.jpg  \n",
       "2  D:\\Users\\gjnet\\Google Drive\\code_projects\\kaggle_ccs\\interim\\train\\Type_1\\trn_1005_add_t1.jpg  \n",
       "3  D:\\Users\\gjnet\\Google Drive\\code_projects\\kaggle_ccs\\interim\\train\\Type_1\\trn_1009_add_t1.jpg  \n",
       "4  D:\\Users\\gjnet\\Google Drive\\code_projects\\kaggle_ccs\\interim\\train\\Type_1\\trn_1011_add_t1.jpg  "
      ]
     },
     "execution_count": 11,
     "metadata": {},
     "output_type": "execute_result"
    }
   ],
   "source": [
    "print_timestamp = \"%Y/%m/%d %H:%M:%S\"\n",
    "fnames_fname = \"filenames.csv\"\n",
    "target_vname = \"class\"\n",
    "val_split = 0.5\n",
    "data_dir = os.path.join(\"D:\"+os.sep, \"Users\", \"gjnet\", \"Google Drive\", \"code_projects\", \"kaggle_ccs\", \"interim\")+os.sep\n",
    "train_pth = os.path.join(data_dir, \"train\")+os.sep\n",
    "val_pth = os.path.join(data_dir, \"val\")+os.sep\n",
    "filenames_df = pd.read_csv(data_dir+fnames_fname).sort_values(\"filename\").reset_index(drop=True)\n",
    "train_files = glob(train_pth+\"*.jpg\")\n",
    "if len(train_files) == 0:\n",
    "    for outcome in filenames_df[target_vname].drop_duplicates():\n",
    "        train_files += glob(train_pth+outcome+os.sep+\"*.jpg\")\n",
    "train_files = pd.Series(train_files, index=filenames_df.index, name=\"filepath\").sort_values().reset_index(drop=True)\n",
    "filenames_df = pd.concat([filenames_df, train_files], axis=1)\n",
    "filenames_df.head()"
   ]
  },
  {
   "cell_type": "code",
   "execution_count": 12,
   "metadata": {},
   "outputs": [],
   "source": [
    "outcomes = filenames_df[target_vname].drop_duplicates().values\n",
    "data_pths = dict(zip([\"train\", \"val\"], [train_pth, val_pth]))\n",
    "export_pths = dict()\n",
    "\n",
    "for ml_dtype in data_pths.keys():\n",
    "    export_pths[ml_dtype] = dict()\n",
    "    for val in outcomes:\n",
    "        export_pths[ml_dtype][val] = os.path.join(data_pths[ml_dtype], val)+os.sep\n",
    "        os.makedirs(export_pths[ml_dtype][val], exist_ok=True)"
   ]
  },
  {
   "cell_type": "code",
   "execution_count": 13,
   "metadata": {},
   "outputs": [],
   "source": [
    "data_splt = train_test_split(filenames_df.index, test_size=val_split, stratify=filenames_df[target_vname], shuffle=True, random_state=123)"
   ]
  },
  {
   "cell_type": "code",
   "execution_count": 14,
   "metadata": {},
   "outputs": [
    {
     "data": {
      "image/png": "[encoded data removed]",
      "text/plain": [
       "<Figure size 432x288 with 1 Axes>"
      ]
     },
     "metadata": {
      "needs_background": "light"
     },
     "output_type": "display_data"
    },
    {
     "data": {
      "image/png": "[encoded data removed]",
      "text/plain": [
       "<Figure size 432x288 with 1 Axes>"
      ]
     },
     "metadata": {
      "needs_background": "light"
     },
     "output_type": "display_data"
    }
   ],
   "source": [
    "for i in range(len(data_splt)):\n",
    "    filenames_df.loc[data_splt[i], target_vname].value_counts(dropna=False).sort_index().plot(kind=\"bar\", title=\"Split \"+str(i))\n",
    "    plt.show()"
   ]
  },
  {
   "cell_type": "code",
   "execution_count": 15,
   "metadata": {},
   "outputs": [],
   "source": [
    "train_data = filenames_df.loc[data_splt[0]]\n",
    "val_data = filenames_df.loc[data_splt[1]]"
   ]
  },
  {
   "cell_type": "code",
   "execution_count": 16,
   "metadata": {},
   "outputs": [
    {
     "data": {
      "text/html": [
       "<div>\n",
       "<style scoped>\n",
       "    .dataframe tbody tr th:only-of-type {\n",
       "        vertical-align: middle;\n",
       "    }\n",
       "\n",
       "    .dataframe tbody tr th {\n",
       "        vertical-align: top;\n",
       "    }\n",
       "\n",
       "    .dataframe thead th {\n",
       "        text-align: right;\n",
       "    }\n",
       "</style>\n",
       "<table border=\"1\" class=\"dataframe\">\n",
       "  <thead>\n",
       "    <tr style=\"text-align: right;\">\n",
       "      <th></th>\n",
       "      <th>filename</th>\n",
       "      <th>class</th>\n",
       "      <th>filepath</th>\n",
       "    </tr>\n",
       "  </thead>\n",
       "  <tbody>\n",
       "    <tr>\n",
       "      <th>1314</th>\n",
       "      <td>trn_2437_add_t2.jpg</td>\n",
       "      <td>Type_2</td>\n",
       "      <td>D:\\Users\\gjnet\\Google Drive\\code_projects\\kaggle_ccs\\interim\\train\\Type_2\\trn_1357_nadd_t2.jpg</td>\n",
       "    </tr>\n",
       "    <tr>\n",
       "      <th>6350</th>\n",
       "      <td>vld_219_nadd_t2.jpg</td>\n",
       "      <td>Type_2</td>\n",
       "      <td>D:\\Users\\gjnet\\Google Drive\\code_projects\\kaggle_ccs\\interim\\train\\Type_3\\trn_6285_add_t3.jpg</td>\n",
       "    </tr>\n",
       "  </tbody>\n",
       "</table>\n",
       "</div>"
      ],
      "text/plain": [
       "                 filename   class  \\\n",
       "1314  trn_2437_add_t2.jpg  Type_2   \n",
       "6350  vld_219_nadd_t2.jpg  Type_2   \n",
       "\n",
       "                                                                                            filepath  \n",
       "1314  D:\\Users\\gjnet\\Google Drive\\code_projects\\kaggle_ccs\\interim\\train\\Type_2\\trn_1357_nadd_t2.jpg  \n",
       "6350   D:\\Users\\gjnet\\Google Drive\\code_projects\\kaggle_ccs\\interim\\train\\Type_3\\trn_6285_add_t3.jpg  "
      ]
     },
     "execution_count": 16,
     "metadata": {},
     "output_type": "execute_result"
    }
   ],
   "source": [
    "train_data.head(2)"
   ]
  },
  {
   "cell_type": "code",
   "execution_count": 17,
   "metadata": {},
   "outputs": [
    {
     "data": {
      "text/html": [
       "<div>\n",
       "<style scoped>\n",
       "    .dataframe tbody tr th:only-of-type {\n",
       "        vertical-align: middle;\n",
       "    }\n",
       "\n",
       "    .dataframe tbody tr th {\n",
       "        vertical-align: top;\n",
       "    }\n",
       "\n",
       "    .dataframe thead th {\n",
       "        text-align: right;\n",
       "    }\n",
       "</style>\n",
       "<table border=\"1\" class=\"dataframe\">\n",
       "  <thead>\n",
       "    <tr style=\"text-align: right;\">\n",
       "      <th></th>\n",
       "      <th>filename</th>\n",
       "      <th>class</th>\n",
       "      <th>filepath</th>\n",
       "    </tr>\n",
       "  </thead>\n",
       "  <tbody>\n",
       "    <tr>\n",
       "      <th>3674</th>\n",
       "      <td>trn_4790_add_t3.jpg</td>\n",
       "      <td>Type_3</td>\n",
       "      <td>D:\\Users\\gjnet\\Google Drive\\code_projects\\kaggle_ccs\\interim\\train\\Type_2\\trn_584_add_t2.jpg</td>\n",
       "    </tr>\n",
       "    <tr>\n",
       "      <th>5924</th>\n",
       "      <td>trn_727_add_t2.jpg</td>\n",
       "      <td>Type_2</td>\n",
       "      <td>D:\\Users\\gjnet\\Google Drive\\code_projects\\kaggle_ccs\\interim\\train\\Type_3\\trn_5416_add_t3.jpg</td>\n",
       "    </tr>\n",
       "  </tbody>\n",
       "</table>\n",
       "</div>"
      ],
      "text/plain": [
       "                 filename   class  \\\n",
       "3674  trn_4790_add_t3.jpg  Type_3   \n",
       "5924   trn_727_add_t2.jpg  Type_2   \n",
       "\n",
       "                                                                                           filepath  \n",
       "3674   D:\\Users\\gjnet\\Google Drive\\code_projects\\kaggle_ccs\\interim\\train\\Type_2\\trn_584_add_t2.jpg  \n",
       "5924  D:\\Users\\gjnet\\Google Drive\\code_projects\\kaggle_ccs\\interim\\train\\Type_3\\trn_5416_add_t3.jpg  "
      ]
     },
     "execution_count": 17,
     "metadata": {},
     "output_type": "execute_result"
    }
   ],
   "source": [
    "val_data.head(2)"
   ]
  },
  {
   "cell_type": "code",
   "execution_count": 19,
   "metadata": {},
   "outputs": [],
   "source": [
    "for outcome in export_pths[\"train\"]:\n",
    "    for ind in train_data[(train_data[target_vname] == outcome)].index:\n",
    "        try:\n",
    "            os.rename(train_data.loc[ind, \"filepath\"], export_pths[\"train\"][outcome]+train_data.loc[ind, \"filename\"])\n",
    "        except FileExistsError:\n",
    "            break"
   ]
  },
  {
   "cell_type": "code",
   "execution_count": 20,
   "metadata": {},
   "outputs": [],
   "source": [
    "for outcome in export_pths[\"val\"]:\n",
    "    for ind in val_data[(val_data[target_vname] == outcome)].index:\n",
    "        os.rename(val_data.loc[ind, \"filepath\"], export_pths[\"val\"][outcome]+val_data.loc[ind, \"filename\"])"
   ]
  }
 ],
 "metadata": {
  "kernelspec": {
   "display_name": "Python 3",
   "language": "python",
   "name": "python3"
  },
  "language_info": {
   "codemirror_mode": {
    "name": "ipython",
    "version": 3
   },
   "file_extension": ".py",
   "mimetype": "text/x-python",
   "name": "python",
   "nbconvert_exporter": "python",
   "pygments_lexer": "ipython3",
   "version": "3.7.7"
  }
 },
 "nbformat": 4,
 "nbformat_minor": 4
}
