{
 "cells": [
  {
   "cell_type": "code",
   "execution_count": 2,
   "metadata": {},
   "outputs": [],
   "source": [
    "import sys\n",
    "import os\n",
    "# from os.path import isfile, join\n",
    "main_dir = os.path.abspath(os.pardir)\n",
    "import pandas as pd\n",
    "sys.path.insert(0, main_dir)"
   ]
  },
  {
   "cell_type": "code",
   "execution_count": 6,
   "metadata": {},
   "outputs": [
    {
     "data": {
      "text/html": [
       "<div>\n",
       "<style scoped>\n",
       "    .dataframe tbody tr th:only-of-type {\n",
       "        vertical-align: middle;\n",
       "    }\n",
       "\n",
       "    .dataframe tbody tr th {\n",
       "        vertical-align: top;\n",
       "    }\n",
       "\n",
       "    .dataframe thead th {\n",
       "        text-align: right;\n",
       "    }\n",
       "</style>\n",
       "<table border=\"1\" class=\"dataframe\">\n",
       "  <thead>\n",
       "    <tr style=\"text-align: right;\">\n",
       "      <th></th>\n",
       "      <th>image_name</th>\n",
       "      <th>class</th>\n",
       "      <th>img_id</th>\n",
       "      <th>new_name</th>\n",
       "    </tr>\n",
       "  </thead>\n",
       "  <tbody>\n",
       "    <tr>\n",
       "      <th>0</th>\n",
       "      <td>0.jpg</td>\n",
       "      <td>t2</td>\n",
       "      <td>0</td>\n",
       "      <td>vld_0_nadd_t2.jpg</td>\n",
       "    </tr>\n",
       "    <tr>\n",
       "      <th>1</th>\n",
       "      <td>1.jpg</td>\n",
       "      <td>t2</td>\n",
       "      <td>1</td>\n",
       "      <td>vld_1_nadd_t2.jpg</td>\n",
       "    </tr>\n",
       "    <tr>\n",
       "      <th>2</th>\n",
       "      <td>2.jpg</td>\n",
       "      <td>t1</td>\n",
       "      <td>2</td>\n",
       "      <td>vld_2_nadd_t1.jpg</td>\n",
       "    </tr>\n",
       "    <tr>\n",
       "      <th>3</th>\n",
       "      <td>3.jpg</td>\n",
       "      <td>t3</td>\n",
       "      <td>3</td>\n",
       "      <td>vld_3_nadd_t3.jpg</td>\n",
       "    </tr>\n",
       "    <tr>\n",
       "      <th>4</th>\n",
       "      <td>4.jpg</td>\n",
       "      <td>t3</td>\n",
       "      <td>4</td>\n",
       "      <td>vld_4_nadd_t3.jpg</td>\n",
       "    </tr>\n",
       "  </tbody>\n",
       "</table>\n",
       "</div>"
      ],
      "text/plain": [
       "  image_name class  img_id           new_name\n",
       "0      0.jpg    t2       0  vld_0_nadd_t2.jpg\n",
       "1      1.jpg    t2       1  vld_1_nadd_t2.jpg\n",
       "2      2.jpg    t1       2  vld_2_nadd_t1.jpg\n",
       "3      3.jpg    t3       3  vld_3_nadd_t3.jpg\n",
       "4      4.jpg    t3       4  vld_4_nadd_t3.jpg"
      ]
     },
     "execution_count": 6,
     "metadata": {},
     "output_type": "execute_result"
    }
   ],
   "source": [
    "raw_imgs_pth = os.path.join(main_dir, \"data\", \"raw\")+os.sep\n",
    "vld_path = os.path.join(raw_imgs_pth, \"vld\")+os.sep\n",
    "train_path = os.path.join(raw_imgs_pth, \"train\")+os.sep\n",
    "\n",
    "images_lst = [f for f in os.listdir(vld_path) if os.path.isfile(os.path.join(vld_path, f))]\n",
    "images_lst = [f for f in images_lst if f.endswith(\".jpg\")]\n",
    "    \n",
    "vld_fnames = pd.read_csv(raw_imgs_pth+\"solution_stg1_release.csv\")\n",
    "vld_fnames.head()"
   ]
  },
  {
   "cell_type": "code",
   "execution_count": 12,
   "metadata": {},
   "outputs": [],
   "source": [
    "for i, f in enumerate(images_lst):\n",
    "#     print(vld_path+f, vld_path+vld_fnames.loc[i, \"new_name\"])\n",
    "    os.rename(vld_path+f, train_path+vld_fnames.loc[i, \"new_name\"])"
   ]
  }
 ],
 "metadata": {
  "kernelspec": {
   "display_name": "Python 3",
   "language": "python",
   "name": "python3"
  },
  "language_info": {
   "codemirror_mode": {
    "name": "ipython",
    "version": 3
   },
   "file_extension": ".py",
   "mimetype": "text/x-python",
   "name": "python",
   "nbconvert_exporter": "python",
   "pygments_lexer": "ipython3",
   "version": "3.7.7"
  }
 },
 "nbformat": 4,
 "nbformat_minor": 4
}