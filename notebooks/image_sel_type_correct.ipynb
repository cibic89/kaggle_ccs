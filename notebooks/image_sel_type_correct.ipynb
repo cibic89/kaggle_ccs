{
 "cells": [
  {
   "cell_type": "code",
   "execution_count": 1,
   "metadata": {},
   "outputs": [],
   "source": [
    "import sys\n",
    "import os\n",
    "from os.path import isfile, join\n",
    "main_dir = os.path.abspath(os.pardir)\n",
    "import pandas as pd\n",
    "sys.path.insert(0, main_dir)"
   ]
  },
  {
   "cell_type": "code",
   "execution_count": 2,
   "metadata": {},
   "outputs": [],
   "source": [
    "raw_imgs_pth = os.path.join(main_dir, \"data\", \"raw\")+os.sep\n",
    "train_imgs = os.path.join(raw_imgs_pth, \"train\")+os.sep\n",
    "exc_pth = os.path.join(raw_imgs_pth, \"exc\")+os.sep\n",
    "os.makedirs(exc_pth, exist_ok=True)\n",
    "\n",
    "images_lst = [f for f in os.listdir(train_imgs) if os.path.isfile(os.path.join(train_imgs, f))]\n",
    "images_lst = pd.Series([f for f in images_lst if f.endswith(\".jpg\")], name=\"currnt_imgs\")"
   ]
  },
  {
   "cell_type": "code",
   "execution_count": 3,
   "metadata": {},
   "outputs": [
    {
     "name": "stdout",
     "output_type": "stream",
     "text": [
      "0\n"
     ]
    }
   ],
   "source": [
    "class_fix = pd.read_csv(raw_imgs_pth+\"fixed_labels_v2.csv\")\n",
    "class_fix_s = class_fix[\"filename\"][class_fix[\"filename\"].isin(images_lst.tolist())]\n",
    "print(len(class_fix_s))"
   ]
  },
  {
   "cell_type": "code",
   "execution_count": 4,
   "metadata": {},
   "outputs": [],
   "source": [
    "for i in class_fix_s.index:\n",
    "    os.rename(train_imgs+class_fix.loc[i, \"filename\"], train_imgs+class_fix.loc[i, \"new_fname\"])"
   ]
  },
  {
   "cell_type": "code",
   "execution_count": 5,
   "metadata": {},
   "outputs": [
    {
     "data": {
      "text/html": [
       "<div>\n",
       "<style scoped>\n",
       "    .dataframe tbody tr th:only-of-type {\n",
       "        vertical-align: middle;\n",
       "    }\n",
       "\n",
       "    .dataframe tbody tr th {\n",
       "        vertical-align: top;\n",
       "    }\n",
       "\n",
       "    .dataframe thead th {\n",
       "        text-align: right;\n",
       "    }\n",
       "</style>\n",
       "<table border=\"1\" class=\"dataframe\">\n",
       "  <thead>\n",
       "    <tr style=\"text-align: right;\">\n",
       "      <th></th>\n",
       "      <th>filename</th>\n",
       "      <th>tvt_type</th>\n",
       "      <th>img_id</th>\n",
       "      <th>adtnl</th>\n",
       "      <th>class</th>\n",
       "    </tr>\n",
       "  </thead>\n",
       "  <tbody>\n",
       "    <tr>\n",
       "      <th>0</th>\n",
       "      <td>trn_0_add_t2.jpg</td>\n",
       "      <td>trn</td>\n",
       "      <td>0</td>\n",
       "      <td>add</td>\n",
       "      <td>t2</td>\n",
       "    </tr>\n",
       "  </tbody>\n",
       "</table>\n",
       "</div>"
      ],
      "text/plain": [
       "           filename tvt_type  img_id adtnl class\n",
       "0  trn_0_add_t2.jpg      trn       0   add    t2"
      ]
     },
     "execution_count": 5,
     "metadata": {},
     "output_type": "execute_result"
    }
   ],
   "source": [
    "imgs_to_keep = pd.read_csv(raw_imgs_pth+\"images_to_keep.csv\")\n",
    "imgs_to_keep.head(1)"
   ]
  },
  {
   "cell_type": "code",
   "execution_count": 6,
   "metadata": {},
   "outputs": [
    {
     "data": {
      "text/plain": [
       "Series([], Name: currnt_imgs, dtype: object)"
      ]
     },
     "execution_count": 6,
     "metadata": {},
     "output_type": "execute_result"
    }
   ],
   "source": [
    "img_to_remove = pd.read_csv(raw_imgs_pth+\"removed_files.csv\")\n",
    "img_to_remove_s = img_to_remove[\"filename\"].append(images_lst[~images_lst.isin(imgs_to_keep[\"filename\"])], ignore_index=True)\n",
    "img_to_remove_s = images_lst[images_lst.isin(img_to_remove_s.tolist())]\n",
    "img_to_remove_s.head(1)"
   ]
  },
  {
   "cell_type": "code",
   "execution_count": 8,
   "metadata": {},
   "outputs": [
    {
     "data": {
      "text/plain": [
       "Series([], Name: currnt_imgs, dtype: object)"
      ]
     },
     "execution_count": 8,
     "metadata": {},
     "output_type": "execute_result"
    }
   ],
   "source": [
    "images_lst[~images_lst.isin(imgs_to_keep[\"filename\"])][images_lst[~images_lst.isin(imgs_to_keep[\"filename\"])].isin(img_to_remove_s)]"
   ]
  },
  {
   "cell_type": "code",
   "execution_count": 9,
   "metadata": {},
   "outputs": [],
   "source": [
    "for f in img_to_remove_s:\n",
    "    os.rename(train_imgs+f, exc_pth+f)"
   ]
  }
 ],
 "metadata": {
  "kernelspec": {
   "display_name": "Python 3",
   "language": "python",
   "name": "python3"
  },
  "language_info": {
   "codemirror_mode": {
    "name": "ipython",
    "version": 3
   },
   "file_extension": ".py",
   "mimetype": "text/x-python",
   "name": "python",
   "nbconvert_exporter": "python",
   "pygments_lexer": "ipython3",
   "version": "3.7.7"
  }
 },
 "nbformat": 4,
 "nbformat_minor": 4
}
