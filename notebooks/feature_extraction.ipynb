{
 "cells": [
  {
   "cell_type": "code",
   "execution_count": 1,
   "metadata": {},
   "outputs": [],
   "source": [
    "from PIL import Image, ImageOps\n",
    "import os\n",
    "import sys\n",
    "import pandas as pd\n",
    "import numpy as np\n",
    "from os.path import isfile, join\n",
    "import arff\n",
    "\n",
    "main_dir = os.path.abspath(os.pardir)\n",
    "sys.path.insert(0, main_dir)"
   ]
  },
  {
   "cell_type": "code",
   "execution_count": 2,
   "metadata": {},
   "outputs": [],
   "source": [
    "raw_imgs_pth = os.path.join(main_dir, \"data\", \"raw\")+os.sep\n",
    "intrm_img_pth = os.path.join(main_dir, \"data\", \"interim\").replace(\"D:\", \"G:\")+os.sep\n",
    "intrm_img_pth2 = intrm_img_pth.replace(\"G:\", \"H:\")\n",
    "\n",
    "interim_paths = [intrm_img_pth, intrm_img_pth2]\n",
    "for interim_path in interim_paths:\n",
    "    os.makedirs(interim_path, exist_ok=True)\n",
    "    \n",
    "images_lst = [f for f in os.listdir(raw_imgs_pth) if os.path.isfile(os.path.join(raw_imgs_pth, f))]\n",
    "images_lst = [f for f in images_lst if f.endswith(\".jpg\")]"
   ]
  },
  {
   "cell_type": "code",
   "execution_count": 3,
   "metadata": {},
   "outputs": [],
   "source": [
    "degree_rot = 5\n",
    "n_rot = int(360 / degree_rot)"
   ]
  },
  {
   "cell_type": "code",
   "execution_count": 4,
   "metadata": {},
   "outputs": [],
   "source": [
    "print_timestamp = \"%Y/%m/%d %H:%M:%S\""
   ]
  },
  {
   "cell_type": "code",
   "execution_count": 5,
   "metadata": {},
   "outputs": [
    {
     "name": "stdout",
     "output_type": "stream",
     "text": [
      "Start time: 2020/05/12 12:58:56\n",
      "Progress: 100%\n",
      "Finish time: 2020/05/12 15:36:40. This has taken 158.0 minutes.\n"
     ]
    }
   ],
   "source": [
    "# Conv, ts to greyscale, resizes, and crops\n",
    "max_size = (480, 640)\n",
    "box_coord = (20, 40)\n",
    "(left, upper, right, lower) = (box_coord[0], box_coord[1], max_size[0]-box_coord[0], max_size[1]-box_coord[1])\n",
    "\n",
    "start_time = pd.to_datetime(\"now\")\n",
    "print(\"Start time:\", start_time.strftime(print_timestamp))\n",
    "\n",
    "for i, image_fname in enumerate(images_lst):\n",
    "    print(\"Progress: \"+str(int(round(((i+1)/((len(images_lst)+1))*100), 0)))+\"%\", end=\"\\r\")\n",
    "    try:\n",
    "        img = Image.open(raw_imgs_pth+image_fname).convert(\"L\")\n",
    "    except Exception as error:\n",
    "        print(image_fname, repr(error))\n",
    "        continue\n",
    "     \n",
    "    # Rotate if necessary, resize, crop, normalise\n",
    "    s = img.size\n",
    "    if s[0] > s[1]:\n",
    "        img = img.rotate(90, expand=1)\n",
    "        s = img.size\n",
    "    ratio = max_size[0]/s[0]\n",
    "    width, height = int(s[0]*ratio), int(s[1]*ratio)\n",
    "    \n",
    "    img = img.resize((width, height), Image.LANCZOS)\n",
    "    img = img.crop((left, upper, right, lower))\n",
    "    \n",
    "    # Normalise intensity\n",
    "    img = ImageOps.equalize(img)\n",
    "    img = ImageOps.autocontrast(img)\n",
    "    \n",
    "    for interim_path in interim_paths:\n",
    "        img.save(interim_path+image_fname.replace(\".jpg\", \"_0\")+\".jpg\", quality=95)\n",
    "    \n",
    "    if \"tst_\" not in image_fname:\n",
    "        for i in range(1, n_rot):\n",
    "            img_copy = img.rotate(degree_rot*i)\n",
    "            for interim_path in interim_paths:\n",
    "                img_copy.save(interim_path+image_fname.replace(\".jpg\", \"_\"+str(i))+\".jpg\", quality=95)\n",
    "\n",
    "        img = ImageOps.mirror(img)\n",
    "        for interim_path in interim_paths:\n",
    "            img.save(interim_path+image_fname.replace(\".jpg\", \"_flip_0\")+\".jpg\", quality=95)\n",
    "        for i in range(1, n_rot):\n",
    "            img_copy = img.rotate(degree_rot*i)\n",
    "            for interim_path in interim_paths:\n",
    "                img_copy.save(interim_path+image_fname.replace(\".jpg\", \"_flip_\"+str(i))+\".jpg\", quality=95)\n",
    "    \n",
    "print()\n",
    "\n",
    "finish_time = pd.to_datetime(\"now\")\n",
    "elapsed_time = finish_time - start_time\n",
    "print(\"Finish time:\", str(finish_time.strftime(print_timestamp))+\". This has taken \"+str(round(elapsed_time.seconds / 60, 0))+\" minutes.\")"
   ]
  },
  {
   "cell_type": "code",
   "execution_count": 6,
   "metadata": {},
   "outputs": [
    {
     "data": {
      "text/html": [
       "<div>\n",
       "<style scoped>\n",
       "    .dataframe tbody tr th:only-of-type {\n",
       "        vertical-align: middle;\n",
       "    }\n",
       "\n",
       "    .dataframe tbody tr th {\n",
       "        vertical-align: top;\n",
       "    }\n",
       "\n",
       "    .dataframe thead th {\n",
       "        text-align: right;\n",
       "    }\n",
       "</style>\n",
       "<table border=\"1\" class=\"dataframe\">\n",
       "  <thead>\n",
       "    <tr style=\"text-align: right;\">\n",
       "      <th></th>\n",
       "      <th>filename</th>\n",
       "      <th>class</th>\n",
       "    </tr>\n",
       "  </thead>\n",
       "  <tbody>\n",
       "    <tr>\n",
       "      <th>0</th>\n",
       "      <td>trn_t1_1131_0.jpg</td>\n",
       "      <td>t1</td>\n",
       "    </tr>\n",
       "    <tr>\n",
       "      <th>1</th>\n",
       "      <td>trn_t1_1131_1.jpg</td>\n",
       "      <td>t1</td>\n",
       "    </tr>\n",
       "    <tr>\n",
       "      <th>2</th>\n",
       "      <td>trn_t1_1131_10.jpg</td>\n",
       "      <td>t1</td>\n",
       "    </tr>\n",
       "    <tr>\n",
       "      <th>3</th>\n",
       "      <td>trn_t1_1131_11.jpg</td>\n",
       "      <td>t1</td>\n",
       "    </tr>\n",
       "    <tr>\n",
       "      <th>4</th>\n",
       "      <td>trn_t1_1131_12.jpg</td>\n",
       "      <td>t1</td>\n",
       "    </tr>\n",
       "  </tbody>\n",
       "</table>\n",
       "</div>"
      ],
      "text/plain": [
       "             filename class\n",
       "0   trn_t1_1131_0.jpg    t1\n",
       "1   trn_t1_1131_1.jpg    t1\n",
       "2  trn_t1_1131_10.jpg    t1\n",
       "3  trn_t1_1131_11.jpg    t1\n",
       "4  trn_t1_1131_12.jpg    t1"
      ]
     },
     "execution_count": 6,
     "metadata": {},
     "output_type": "execute_result"
    }
   ],
   "source": [
    "images_df = [f for f in os.listdir(intrm_img_pth) if isfile(join(intrm_img_pth, f))]\n",
    "images_df = pd.DataFrame([f for f in images_df if f.endswith(\".jpg\")], columns=[\"filename\"])\n",
    "images_df[\"class\"] = images_df[\"filename\"].str.extract(\"(t\\d{1})\").astype(\"category\")\n",
    "images_df.head()"
   ]
  },
  {
   "cell_type": "code",
   "execution_count": 7,
   "metadata": {},
   "outputs": [],
   "source": [
    "for interim_path in interim_paths:\n",
    "    arff.dump(interim_path+'filenames.arff'\n",
    "          , images_df.values\n",
    "          , relation='kaggle_ccs'\n",
    "          , names=images_df.columns)"
   ]
  }
 ],
 "metadata": {
  "kernelspec": {
   "display_name": "Python 3",
   "language": "python",
   "name": "python3"
  },
  "language_info": {
   "codemirror_mode": {
    "name": "ipython",
    "version": 3
   },
   "file_extension": ".py",
   "mimetype": "text/x-python",
   "name": "python",
   "nbconvert_exporter": "python",
   "pygments_lexer": "ipython3",
   "version": "3.7.7"
  }
 },
 "nbformat": 4,
 "nbformat_minor": 4
}
