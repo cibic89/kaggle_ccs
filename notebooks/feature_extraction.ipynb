{
 "cells": [
  {
   "cell_type": "code",
   "execution_count": 1,
   "metadata": {},
   "outputs": [],
   "source": [
    "from PIL import Image\n",
    "import os\n",
    "import sys\n",
    "import pandas as pd\n",
    "\n",
    "main_dir = os.path.abspath(os.pardir)\n",
    "sys.path.insert(0, main_dir)"
   ]
  },
  {
   "cell_type": "code",
   "execution_count": 2,
   "metadata": {},
   "outputs": [
    {
     "name": "stdout",
     "output_type": "stream",
     "text": [
      "Start time: 2020/05/09 21:09:57\n",
      "Progress: 100%\n",
      "This has taken 55.43 minutes.\n"
     ]
    }
   ],
   "source": [
    "raw_imgs_pth = os.path.join(main_dir, \"data\", \"raw\")\n",
    "intrm_img_pth = os.path.join(main_dir, \"data\", \"interim\")\n",
    "os.makedirs(intrm_img_pth, exist_ok=True)\n",
    "raw_imgs_pth, intrm_img_pth = raw_imgs_pth+os.sep, intrm_img_pth+os.sep\n",
    "images_lst = [f for f in os.listdir(raw_imgs_pth) if os.path.isfile(os.path.join(raw_imgs_pth, f))]\n",
    "images_lst = [f for f in images_lst if f.endswith(\".jpg\")]\n",
    "\n",
    "# Conv, ts to greyscale, resizes, and crops\n",
    "size = (480, 640)\n",
    "box_coord = (40, 120)\n",
    "\n",
    "(left, upper, right, lower) = (box_coord[0], box_coord[1], size[0]-box_coord[0], size[1]-box_coord[1])\n",
    "\n",
    "start_time = pd.to_datetime(\"now\")\n",
    "print(\"Start time:\", start_time.strftime(\"%Y/%m/%d %H:%M:%S\"))\n",
    "for i, image_fname in enumerate(images_lst):\n",
    "    print(\"Progress: \"+str(int(round(((i+1)/((len(images_lst)+1))*100), 0)))+\"%\", end=\"\\r\")\n",
    "    try:\n",
    "        img = Image.open(raw_imgs_pth+image_fname).convert('LA')\n",
    "    except Exception as error:\n",
    "        print(image_fname, repr(error))\n",
    "        continue\n",
    "    img.thumbnail(size, Image.BICUBIC)\n",
    "    img = img.crop((left, upper, right, lower))\n",
    "    img.save(intrm_img_pth+image_fname.replace(\".jpg\", \"\")+\".png\")\n",
    "print()\n",
    "\n",
    "elapsed_time = pd.to_datetime(\"now\") - start_time\n",
    "print(\"This has taken \"+str(round(elapsed_time.seconds / 60, 0))+\" minutes.\")"
   ]
  }
 ],
 "metadata": {
  "kernelspec": {
   "display_name": "Python 3",
   "language": "python",
   "name": "python3"
  },
  "language_info": {
   "codemirror_mode": {
    "name": "ipython",
    "version": 3
   },
   "file_extension": ".py",
   "mimetype": "text/x-python",
   "name": "python",
   "nbconvert_exporter": "python",
   "pygments_lexer": "ipython3",
   "version": "3.7.7"
  }
 },
 "nbformat": 4,
 "nbformat_minor": 4
}
